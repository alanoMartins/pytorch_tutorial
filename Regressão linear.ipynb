{
 "cells": [
  {
   "cell_type": "markdown",
   "metadata": {},
   "source": [
    "# Tutorial pytorch (Regressão linear)"
   ]
  },
  {
   "cell_type": "markdown",
   "metadata": {},
   "source": [
    "## Importando dependências"
   ]
  },
  {
   "cell_type": "code",
   "execution_count": 39,
   "metadata": {},
   "outputs": [],
   "source": [
    "import torch\n",
    "import torch.nn as nn\n",
    "from torch.autograd import Variable\n",
    "import numpy as np\n",
    "import matplotlib.pyplot as plt"
   ]
  },
  {
   "cell_type": "markdown",
   "metadata": {},
   "source": [
    "## Criando dataset "
   ]
  },
  {
   "cell_type": "code",
   "execution_count": 17,
   "metadata": {},
   "outputs": [],
   "source": [
    "x_values = list(range(11))\n",
    "y_values = [2*i + 1 for i in x_values]"
   ]
  },
  {
   "cell_type": "code",
   "execution_count": 18,
   "metadata": {},
   "outputs": [],
   "source": [
    "x_train = np.array(x_values, dtype=np.float32)\n",
    "x_train = x_train.reshape(-1, 1)"
   ]
  },
  {
   "cell_type": "code",
   "execution_count": 19,
   "metadata": {},
   "outputs": [],
   "source": [
    "y_train = np.array(y_values, dtype=np.float32)\n",
    "y_train = y_train.reshape(-1, 1)"
   ]
  },
  {
   "cell_type": "markdown",
   "metadata": {},
   "source": [
    "## Criando modelo"
   ]
  },
  {
   "cell_type": "code",
   "execution_count": 22,
   "metadata": {},
   "outputs": [],
   "source": [
    "class LinearRegressionModel(nn.Module):\n",
    "    def __init__(self, input_dim, output_dim):\n",
    "        # Chamando o init da super classe\n",
    "        super(LinearRegressionModel, self).__init__()\n",
    "        self.linear = nn.Linear(input_dim, output_dim)  \n",
    "    \n",
    "    def forward(self, x):\n",
    "        # Entrada para cada item do treinamento\n",
    "        out = self.linear(x)\n",
    "        return out"
   ]
  },
  {
   "cell_type": "code",
   "execution_count": 23,
   "metadata": {},
   "outputs": [],
   "source": [
    "input_dim = 1\n",
    "output_dim = 1\n",
    "\n",
    "model = LinearRegressionModel(input_dim, output_dim)"
   ]
  },
  {
   "cell_type": "code",
   "execution_count": 26,
   "metadata": {},
   "outputs": [
    {
     "data": {
      "text/plain": [
       "True"
      ]
     },
     "execution_count": 26,
     "metadata": {},
     "output_type": "execute_result"
    }
   ],
   "source": [
    "# Verificar se cuda está instalado\n",
    "torch.cuda.is_available()"
   ]
  },
  {
   "cell_type": "markdown",
   "metadata": {},
   "source": [
    "## Inicializando classe para calcular a perda (MSE)"
   ]
  },
  {
   "cell_type": "code",
   "execution_count": 27,
   "metadata": {},
   "outputs": [],
   "source": [
    "criterion = nn.MSELoss()"
   ]
  },
  {
   "cell_type": "markdown",
   "metadata": {},
   "source": [
    "## Inicializando o otmizador (Gradiente Descendente Estocástico)"
   ]
  },
  {
   "cell_type": "code",
   "execution_count": 40,
   "metadata": {},
   "outputs": [],
   "source": [
    "learning_rate = 0.01\n",
    "\n",
    "optimizer = torch.optim.SGD(model.parameters(), lr=learning_rate)"
   ]
  },
  {
   "cell_type": "markdown",
   "metadata": {},
   "source": [
    "## Treinando o modelo"
   ]
  },
  {
   "cell_type": "code",
   "execution_count": 34,
   "metadata": {},
   "outputs": [
    {
     "name": "stdout",
     "output_type": "stream",
     "text": [
      "epoch 1, loss 0.12953627109527588\n",
      "epoch 2, loss 0.12808966636657715\n",
      "epoch 3, loss 0.12665918469429016\n",
      "epoch 4, loss 0.12524503469467163\n",
      "epoch 5, loss 0.12384629249572754\n",
      "epoch 6, loss 0.12246347963809967\n",
      "epoch 7, loss 0.12109574675559998\n",
      "epoch 8, loss 0.11974350363016129\n",
      "epoch 9, loss 0.11840645223855972\n",
      "epoch 10, loss 0.11708417534828186\n",
      "epoch 11, loss 0.1157766580581665\n",
      "epoch 12, loss 0.11448383331298828\n",
      "epoch 13, loss 0.11320551484823227\n",
      "epoch 14, loss 0.11194118112325668\n",
      "epoch 15, loss 0.11069128662347794\n",
      "epoch 16, loss 0.10945525020360947\n",
      "epoch 17, loss 0.10823298990726471\n",
      "epoch 18, loss 0.10702424496412277\n",
      "epoch 19, loss 0.10582929849624634\n",
      "epoch 20, loss 0.10464733839035034\n",
      "epoch 21, loss 0.10347892343997955\n",
      "epoch 22, loss 0.10232331603765488\n",
      "epoch 23, loss 0.10118074715137482\n",
      "epoch 24, loss 0.10005071014165878\n",
      "epoch 25, loss 0.0989333912730217\n",
      "epoch 26, loss 0.09782881289720535\n",
      "epoch 27, loss 0.09673620760440826\n",
      "epoch 28, loss 0.09565597772598267\n",
      "epoch 29, loss 0.09458796679973602\n",
      "epoch 30, loss 0.09353175014257431\n",
      "epoch 31, loss 0.09248723834753036\n",
      "epoch 32, loss 0.09145443141460419\n",
      "epoch 33, loss 0.09043319523334503\n",
      "epoch 34, loss 0.08942323923110962\n",
      "epoch 35, loss 0.08842464536428452\n",
      "epoch 36, loss 0.0874372124671936\n",
      "epoch 37, loss 0.08646087348461151\n",
      "epoch 38, loss 0.08549537509679794\n",
      "epoch 39, loss 0.08454082161188126\n",
      "epoch 40, loss 0.08359665423631668\n",
      "epoch 41, loss 0.08266305923461914\n",
      "epoch 42, loss 0.08174007385969162\n",
      "epoch 43, loss 0.08082730323076248\n",
      "epoch 44, loss 0.07992471754550934\n",
      "epoch 45, loss 0.07903226464986801\n",
      "epoch 46, loss 0.07814954221248627\n",
      "epoch 47, loss 0.07727695256471634\n",
      "epoch 48, loss 0.07641395926475525\n",
      "epoch 49, loss 0.07556066662073135\n",
      "epoch 50, loss 0.0747169479727745\n",
      "epoch 51, loss 0.07388265430927277\n",
      "epoch 52, loss 0.07305751740932465\n",
      "epoch 53, loss 0.07224175333976746\n",
      "epoch 54, loss 0.0714351162314415\n",
      "epoch 55, loss 0.07063725590705872\n",
      "epoch 56, loss 0.06984846293926239\n",
      "epoch 57, loss 0.06906849145889282\n",
      "epoch 58, loss 0.06829721480607986\n",
      "epoch 59, loss 0.06753453612327576\n",
      "epoch 60, loss 0.06678030639886856\n",
      "epoch 61, loss 0.06603483110666275\n",
      "epoch 62, loss 0.06529736518859863\n",
      "epoch 63, loss 0.0645681619644165\n",
      "epoch 64, loss 0.06384705007076263\n",
      "epoch 65, loss 0.06313419342041016\n",
      "epoch 66, loss 0.062429193407297134\n",
      "epoch 67, loss 0.06173202395439148\n",
      "epoch 68, loss 0.061042673885822296\n",
      "epoch 69, loss 0.060360949486494064\n",
      "epoch 70, loss 0.05968691408634186\n",
      "epoch 71, loss 0.05902045592665672\n",
      "epoch 72, loss 0.05836137756705284\n",
      "epoch 73, loss 0.057709600776433945\n",
      "epoch 74, loss 0.05706529691815376\n",
      "epoch 75, loss 0.05642798915505409\n",
      "epoch 76, loss 0.05579780042171478\n",
      "epoch 77, loss 0.05517477169632912\n",
      "epoch 78, loss 0.054558634757995605\n",
      "epoch 79, loss 0.053949467837810516\n",
      "epoch 80, loss 0.05334688723087311\n",
      "epoch 81, loss 0.05275131016969681\n",
      "epoch 82, loss 0.05216219276189804\n",
      "epoch 83, loss 0.051579639315605164\n",
      "epoch 84, loss 0.051003649830818176\n",
      "epoch 85, loss 0.05043401941657066\n",
      "epoch 86, loss 0.04987100511789322\n",
      "epoch 87, loss 0.04931405931711197\n",
      "epoch 88, loss 0.04876324161887169\n",
      "epoch 89, loss 0.04821879416704178\n",
      "epoch 90, loss 0.04768035560846329\n",
      "epoch 91, loss 0.04714791104197502\n",
      "epoch 92, loss 0.04662134870886803\n",
      "epoch 93, loss 0.046100836247205734\n",
      "epoch 94, loss 0.045586008578538895\n",
      "epoch 95, loss 0.04507698491215706\n",
      "epoch 96, loss 0.04457362741231918\n",
      "epoch 97, loss 0.04407581686973572\n",
      "epoch 98, loss 0.04358360916376114\n",
      "epoch 99, loss 0.0430968813598156\n",
      "epoch 100, loss 0.0426156148314476\n"
     ]
    },
    {
     "name": "stderr",
     "output_type": "stream",
     "text": [
      "/home/joker/virtualenvs/audio_processing/lib/python3.6/site-packages/ipykernel_launcher.py:34: UserWarning: invalid index of a 0-dim tensor. This will be an error in PyTorch 0.5. Use tensor.item() to convert a 0-dim tensor to a Python number\n"
     ]
    }
   ],
   "source": [
    "epochs = 100\n",
    "for epoch in range(epochs):\n",
    "    epoch += 1\n",
    "    \n",
    "    if torch.cuda.is_available():\n",
    "        #Chamar função .cuda()\n",
    "        inputs = Variable(torch.from_numpy(x_train))\n",
    "        \n",
    "    if torch.cuda.is_available():\n",
    "        labels = Variable(torch.from_numpy(y_train))\n",
    "\n",
    "    optimizer.zero_grad() \n",
    "    outputs = model(inputs)\n",
    "    loss = criterion(outputs, labels)\n",
    "    loss.backward()\n",
    "    optimizer.step()\n",
    "    \n",
    "\n",
    "    print('epoch {}, loss {}'.format(epoch, loss.data[0]))"
   ]
  },
  {
   "cell_type": "markdown",
   "metadata": {},
   "source": [
    "## Exibindo as predições"
   ]
  },
  {
   "cell_type": "code",
   "execution_count": 41,
   "metadata": {},
   "outputs": [
    {
     "data": {
      "text/plain": [
       "array([[  0.61598778],\n",
       "       [  2.67128897],\n",
       "       [  4.72659016],\n",
       "       [  6.78189135],\n",
       "       [  8.83719254],\n",
       "       [ 10.8924942 ],\n",
       "       [ 12.94779491],\n",
       "       [ 15.00309563],\n",
       "       [ 17.05839729],\n",
       "       [ 19.11369896],\n",
       "       [ 21.16900063]], dtype=float32)"
      ]
     },
     "execution_count": 41,
     "metadata": {},
     "output_type": "execute_result"
    }
   ],
   "source": [
    "predicted = model(Variable(torch.from_numpy(x_train))).data.numpy()\n",
    "predicted"
   ]
  },
  {
   "cell_type": "code",
   "execution_count": 42,
   "metadata": {},
   "outputs": [
    {
     "data": {
      "text/plain": [
       "array([[  1.],\n",
       "       [  3.],\n",
       "       [  5.],\n",
       "       [  7.],\n",
       "       [  9.],\n",
       "       [ 11.],\n",
       "       [ 13.],\n",
       "       [ 15.],\n",
       "       [ 17.],\n",
       "       [ 19.],\n",
       "       [ 21.]], dtype=float32)"
      ]
     },
     "execution_count": 42,
     "metadata": {},
     "output_type": "execute_result"
    }
   ],
   "source": [
    "y_train"
   ]
  },
  {
   "cell_type": "markdown",
   "metadata": {},
   "source": [
    "## Plotando o resultado"
   ]
  },
  {
   "cell_type": "code",
   "execution_count": 45,
   "metadata": {},
   "outputs": [
    {
     "data": {
      "image/png": "[encoded data removed]",
      "text/plain": [
       "<matplotlib.figure.Figure at 0x7fcaa4079c18>"
      ]
     },
     "metadata": {},
     "output_type": "display_data"
    }
   ],
   "source": [
    "plt.clf()\n",
    "\n",
    "predicted = model(Variable(torch.from_numpy(x_train))).data.numpy()\n",
    "\n",
    "plt.plot(x_train, y_train, 'go', label=\"Treino\", alpha=.5)\n",
    "plt.plot(x_train, predicted, '-', label=\"Regressão\", alpha=.5)\n",
    "\n",
    "plt.legend(loc=\"best\")\n",
    "plt.show()"
   ]
  },
  {
   "cell_type": "markdown",
   "metadata": {},
   "source": [
    "## Salvando e carregando modelo"
   ]
  },
  {
   "cell_type": "code",
   "execution_count": 47,
   "metadata": {},
   "outputs": [],
   "source": [
    "torch.save(model.state_dict(), \"models/regressao_linear.pkl\")"
   ]
  },
  {
   "cell_type": "code",
   "execution_count": 48,
   "metadata": {},
   "outputs": [],
   "source": [
    "model.load_state_dict(torch.load(\"models/regressao_linear.pkl\"))"
   ]
  }
 ],
 "metadata": {
  "kernelspec": {
   "display_name": "Python 3",
   "language": "python",
   "name": "python3"
  },
  "language_info": {
   "codemirror_mode": {
    "name": "ipython",
    "version": 3
   },
   "file_extension": ".py",
   "mimetype": "text/x-python",
   "name": "python",
   "nbconvert_exporter": "python",
   "pygments_lexer": "ipython3",
   "version": "3.6.3"
  }
 },
 "nbformat": 4,
 "nbformat_minor": 2
}
